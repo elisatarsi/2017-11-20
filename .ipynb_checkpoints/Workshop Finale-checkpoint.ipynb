{
 "cells": [
  {
   "cell_type": "code",
   "execution_count": 3,
   "metadata": {},
   "outputs": [
    {
     "name": "stdout",
     "output_type": "stream",
     "text": [
      "Evaluating fenvs.py..\n",
      "...fenvs.py imported in 0.016625 seconds\n"
     ]
    }
   ],
   "source": [
    "from pyplasm import*\n",
    "from larlib import*"
   ]
  },
  {
   "cell_type": "code",
   "execution_count": 2,
   "metadata": {
    "collapsed": true
   },
   "outputs": [],
   "source": [
    "def finestraPiccola(larghezza):\n",
    "    bordoOrizz=CUBOID([larghezza*0.07,larghezza*0.006,larghezza*0.007])\n",
    "    bordiO=STRUCT(NN(2)([bordoOrizz,T(3)(larghezza*0.063)]))\n",
    "    bordoVert=T(3)(larghezza*0.007)(CUBOID([larghezza*0.007,larghezza*0.006,larghezza*0.056]))\n",
    "    bordiV=STRUCT(NN(2)([bordoVert,T(1)(larghezza*0.063)]))\n",
    "    anta=T([1,2,3])([larghezza*0.007,larghezza*0.004,larghezza*0.007])(CUBOID([larghezza*0.056,larghezza*0.002,larghezza*0.056]))\n",
    "    bordo=STRUCT([bordiO,bordiV,COLOR([0.56,0.44,0.30])(anta)])\n",
    "    pomello1=R([3,2])(PI/2)(CYLINDER([larghezza*0.0012,larghezza*0.003])(30))\n",
    "    pomello=T([1,2,3])([larghezza*0.014,larghezza*(-0.002),larghezza*0.035])(pomello1)\n",
    "    antaCompl=STRUCT([COLOR([1.28,1.28,0])(pomello),anta])\n",
    "    bordo=STRUCT([bordiO,bordiV,COLOR([0.56,0.44,0.30])(antaCompl)])\n",
    "    return bordo\n",
    "\n",
    "    VIEW(finestraPiccola(10))"
   ]
  },
  {
   "cell_type": "code",
   "execution_count": 109,
   "metadata": {},
   "outputs": [
    {
     "data": {
      "text/plain": [
       "<pyplasm.xgepy.Hpc; proxy of <Swig Object of type 'std::shared_ptr< Hpc > *' at 0x1890dc0030> >"
      ]
     },
     "execution_count": 109,
     "metadata": {},
     "output_type": "execute_result"
    }
   ],
   "source": [
    "def finestraGrande(larghezza):\n",
    "    bordoOr=CUBOID([larghezza*0.07,larghezza*0.006,larghezza*0.007])\n",
    "    bordiOr=STRUCT(NN(2)([bordoOr,T(3)(larghezza*0.163)]))\n",
    "    bordoVe=T(3)(larghezza*0.007)(CUBOID([larghezza*0.007,larghezza*0.006,larghezza*0.156]))\n",
    "    bordiVe=STRUCT(NN(2)([bordoVe,T(1)(larghezza*0.063)]))\n",
    "    anta=T([1,2,3])([larghezza*0.007,larghezza*0.003,larghezza*0.007])(CUBOID([larghezza*0.028,larghezza*0.003,larghezza*0.156]))\n",
    "    ante=STRUCT(NN(2)([anta,T(1)(larghezza*0.028)]))\n",
    "    pomello1g=R([3,2])(PI/2)(CYLINDER([larghezza*0.0012,larghezza*0.003])(30))\n",
    "    pomellog=T([1,3])([larghezza*0.0326,larghezza*0.085])(pomello1g)\n",
    "    pomelli=STRUCT(NN(2)([pomellog,T(1)(larghezza*0.00374)]))\n",
    "    antaC=STRUCT([ante,COLOR([1.28,1.28,0])(pomelli)])\n",
    "    finestraCompleta=STRUCT([bordiOr,bordiVe,COLOR([0.56,0.44,0.30])(antaC)])\n",
    "    return finestraCompleta\n",
    "VIEW(finestraGrande(10))"
   ]
  },
  {
   "cell_type": "code",
   "execution_count": 110,
   "metadata": {},
   "outputs": [
    {
     "name": "stdout",
     "output_type": "stream",
     "text": [
      "Child 3\n"
     ]
    },
    {
     "data": {
      "text/plain": [
       "<pyplasm.xgepy.Hpc; proxy of <Swig Object of type 'std::shared_ptr< Hpc > *' at 0x1890dc0f60> >"
      ]
     },
     "execution_count": 110,
     "metadata": {},
     "output_type": "execute_result"
    }
   ],
   "source": [
    "def arco(larghezza):\n",
    "    base=CYLINDER([larghezza*0.125,larghezza*0.225])(30)\n",
    "    sfera=JOIN(SPHERE(larghezza*0.125)([larghezza*4,larghezza*4]))\n",
    "    cubo=T([1,2])([-larghezza*0.125,-larghezza*0.125])(CUBOID([larghezza*0.5,larghezza*0.5,larghezza*0.5]))\n",
    "    cupola=INTERSECTION([sfera,cubo])\n",
    "    arcoPieno=STRUCT([base,T(3)(larghezza*0.225)(cupola)])\n",
    "    arcoCompleto=INTERSECTION([arcoPieno,T([1,2])([-larghezza*0.3,-larghezza*0.02])(CUBOID([larghezza*0.6,larghezza*0.04,larghezza*0.6]))])\n",
    "    return arcoCompleto\n",
    "VIEW(arco(10))\n",
    "    "
   ]
  },
  {
   "cell_type": "code",
   "execution_count": 4,
   "metadata": {},
   "outputs": [
    {
     "name": "stdout",
     "output_type": "stream",
     "text": [
      "Child 3\n"
     ]
    },
    {
     "data": {
      "text/plain": [
       "<pyplasm.xgepy.Hpc; proxy of <Swig Object of type 'std::shared_ptr< Hpc > *' at 0x1811c90630> >"
      ]
     },
     "execution_count": 4,
     "metadata": {},
     "output_type": "execute_result"
    }
   ],
   "source": [
    "def ringhiera(larghezza):\n",
    "    parteInferiore=CUBOID([larghezza*0.027,larghezza*0.027,larghezza*0.027])\n",
    "    cono1=CONE([larghezza*0.0135,larghezza*0.005])(larghezza)\n",
    "    parteCentrale=SPHERE(larghezza*0.0135)([larghezza*2,larghezza*2])\n",
    "    parteSuperiore=CONE([larghezza*0.0135,larghezza*0.0395])(larghezza)\n",
    "    pilastro=STRUCT([parteInferiore,T([1,2,3])([larghezza*0.0135,larghezza*0.0135,larghezza*0.027])(cono1),T([1,2,3])([larghezza*0.0135,larghezza*0.0135,larghezza*0.0455])(parteCentrale),T([1,2,3])([larghezza*0.0135,larghezza*0.0135,larghezza*0.0455])(parteSuperiore)])\n",
    "    pilastri=STRUCT(NN(10)([T([1,3])([larghezza*0.021,larghezza*0.02])(pilastro),T(1)(larghezza*0.028)]))\n",
    "    basePilastri=CUBOID([larghezza*0.3,larghezza*0.027,larghezza*0.02])\n",
    "    colonnina=T(3)(larghezza*0.02)(CUBOID([larghezza*0.02,larghezza*0.027,larghezza*0.085]))\n",
    "    baseAltaPilastri=T(3)(larghezza*0.105)(CUBOID([larghezza*0.3,larghezza*0.027,larghezza*0.01]))\n",
    "    ringhieraCompleta=TEXTURE(\"muro.jpg\")(STRUCT([pilastri,basePilastri,colonnina,baseAltaPilastri]))\n",
    "    return ringhieraCompleta\n",
    "VIEW(ringhiera(10))\n",
    "    "
   ]
  },
  {
   "cell_type": "code",
   "execution_count": 112,
   "metadata": {},
   "outputs": [
    {
     "name": "stdout",
     "output_type": "stream",
     "text": [
      "Child 3\n",
      "Child 3\n"
     ]
    },
    {
     "data": {
      "text/plain": [
       "<pyplasm.xgepy.Hpc; proxy of <Swig Object of type 'std::shared_ptr< Hpc > *' at 0x1890dc07b0> >"
      ]
     },
     "execution_count": 112,
     "metadata": {},
     "output_type": "execute_result"
    }
   ],
   "source": [
    "def ringhieraAngolo(larghezza):\n",
    "    ringhieraLaterale=R([2,1])(PI/2)(ringhiera(10))\n",
    "    ringhieraDestraCompleta=TEXTURE()(STRUCT([ringhiera(10),T(2)(larghezza*0.3)(S(2)(larghezza*0.0935)(ringhieraLaterale))]))\n",
    "    return ringhieraDestraCompleta\n",
    "VIEW(ringhieraAngolo(10))"
   ]
  },
  {
   "cell_type": "code",
   "execution_count": 113,
   "metadata": {},
   "outputs": [
    {
     "name": "stdout",
     "output_type": "stream",
     "text": [
      "Child 3\n",
      "Child 3\n",
      "Child 3\n"
     ]
    },
    {
     "data": {
      "text/plain": [
       "<pyplasm.xgepy.Hpc; proxy of <Swig Object of type 'std::shared_ptr< Hpc > *' at 0x1890dc0f90> >"
      ]
     },
     "execution_count": 113,
     "metadata": {},
     "output_type": "execute_result"
    }
   ],
   "source": [
    "def scala(larghezza):\n",
    "    gradino=CUBOID([larghezza*0.3,larghezza*0.75,larghezza*0.015])\n",
    "    gradini=STRUCT([gradino,T([2,3])([larghezza*0.03,larghezza*0.015])(S(2)(larghezza*0.096)(gradino)),T([2,3])([larghezza*0.06,larghezza*0.03])(S(2)(larghezza*0.092)(gradino)),T([2,3])([larghezza*0.09,larghezza*0.045])(S(2)(larghezza*0.088)(gradino)),T([2,3])([larghezza*0.12,larghezza*0.06])(S(2)(larghezza*0.084)(gradino)),T([2,3])([larghezza*0.15,larghezza*0.075])(S(2)(larghezza*0.08)(gradino)),T([2,3])([larghezza*0.18,larghezza*0.09])(S(2)(larghezza*0.076)(gradino)),T([2,3])([larghezza*0.21,larghezza*0.105])(S(2)(larghezza*0.072)(gradino)),T([2,3])([larghezza*0.24,larghezza*0.12])(S(2)(larghezza*0.068)(gradino)),T([2,3])([larghezza*0.27,larghezza*0.135])(S(2)(larghezza*0.064)(gradino)),T([2,3])([larghezza*0.3,larghezza*0.15])(S(2)(larghezza*0.06)(gradino)),T([2,3])([larghezza*0.33,larghezza*0.165])(S(2)(larghezza*0.056)(gradino)),T([2,3])([larghezza*0.36,larghezza*0.18])(S(2)(larghezza*0.052)(gradino)),T([2,3])([larghezza*0.39,larghezza*0.195])(S(2)(larghezza*0.048)(gradino)),T([2,3])([larghezza*0.42,larghezza*0.21])(S(2)(larghezza*0.044)(gradino)),T([2,3])([larghezza*0.45,larghezza*0.225])(S(2)(larghezza*0.04)(gradino)),T([2,3])([larghezza*0.48,larghezza*0.24])(S(2)(larghezza*0.036)(gradino)),T([2,3])([larghezza*0.51,larghezza*0.255])(S(2)(larghezza*0.032)(gradino)),T([2,3])([larghezza*0.54,larghezza*0.27])(S(2)(larghezza*0.028)(gradino)),T([2,3])([larghezza*0.57,larghezza*0.285])(S(2)(larghezza*0.024)(gradino)),T([2,3])([larghezza*0.6,larghezza*0.3])(S(2)(larghezza*0.02)(gradino)),T([2,3])([larghezza*0.63,larghezza*0.315])(S(2)(larghezza*0.016)(gradino)),T([2,3])([larghezza*0.66,larghezza*0.33])(S(2)(larghezza*0.012)(gradino)),T([2,3])([larghezza*0.69,larghezza*0.345])(S(2)(larghezza*0.008)(gradino)),T([2,3])([larghezza*0.72,larghezza*0.36])(S(2)(larghezza*0.004)(gradino))])\n",
    "    cono=JOIN(R([1,2])(PI/4)(CONE([larghezza*1.1,larghezza*0.39])(4)))\n",
    "    cubo=CUBOID([larghezza*0.027,larghezza*0.75,larghezza*0.3754])\n",
    "    baseCorrimano=INTERSECTION([cono,cubo])\n",
    "    ringhieraTotale=STRUCT(NN(2)([ringhiera(10),T(1)(larghezza*0.3)(ringhiera(10))]))\n",
    "    ringhieraRuotata1=R([2,1])(PI/2)(ringhieraTotale)\n",
    "    ringhieraRuotata2=T([1,2,3])([larghezza*0.3,larghezza*0.57,larghezza*0.2453])(R([2,3])(PI/7.93)(ringhieraRuotata1))\n",
    "    baseCorrimano2=T([1,2])([larghezza*0.327,larghezza*0.75])(R([2,1])(PI)(baseCorrimano))\n",
    "    corrimano=S(2)(larghezza*0.0834)(ringhieraRuotata2)\n",
    "    corrimanoDestro=STRUCT([corrimano,baseCorrimano2])\n",
    "    baseCorrimanoDoppia=STRUCT(NN(2)([corrimanoDestro,T(1)(larghezza*-0.32)]))\n",
    "    \n",
    "    colonnina=STRUCT([CUBOID([larghezza*0.027,larghezza*0.027,larghezza*0.115]),T([1,2,3])([larghezza*0.0135,larghezza*0.0092,larghezza*0.132])(SPHERE(larghezza*0.02)([20,20]))])\n",
    "    colonnine=STRUCT(NN(2)([T([1,2])([larghezza*-0.02,larghezza*-0.027])(colonnina),T(1)(larghezza*0.32)]))\n",
    "    corrimanoCompleti=STRUCT([baseCorrimanoDoppia,colonnine])\n",
    "    scalaCompleta=STRUCT([corrimanoCompleti,gradini])\n",
    "    return scalaCompleta\n",
    "VIEW(scala(10))"
   ]
  },
  {
   "cell_type": "code",
   "execution_count": 114,
   "metadata": {},
   "outputs": [
    {
     "name": "stdout",
     "output_type": "stream",
     "text": [
      "Child 3\n",
      "Child 3\n",
      "Child 3\n",
      "Child 3\n",
      "Child 3\n",
      "Child 3\n",
      "Child 3\n",
      "Child 3\n",
      "Child 3\n"
     ]
    },
    {
     "data": {
      "text/plain": [
       "<pyplasm.xgepy.Hpc; proxy of <Swig Object of type 'std::shared_ptr< Hpc > *' at 0x1890dc0c60> >"
      ]
     },
     "execution_count": 114,
     "metadata": {},
     "output_type": "execute_result"
    }
   ],
   "source": [
    "def facciataAnterioreCentrale(larghezza):\n",
    "    muroInferiore=CUBOID([larghezza*0.3,larghezza*0.04,larghezza*0.4])\n",
    "    archiInferiori=DIFFERENCE([muroInferiore,T([1,2])([larghezza*0.15,larghezza*0.02])(arco(10))])\n",
    "    archi=STRUCT(NN(2)([T(2)(larghezza*-0.3)(archiInferiori),T([1,2])([larghezza*0.6,larghezza*-0.3])(archiInferiori)]))\n",
    "    muroLateraleInferiore=CUBOID([larghezza*0.025,larghezza*0.26,larghezza*0.4])\n",
    "    tettoArco=T([2,3])([-larghezza*0.3,larghezza*0.4])(CUBOID([larghezza*0.3,larghezza*0.3,larghezza*0.005]))\n",
    "    tettiArchi=STRUCT(NN(2)([tettoArco,T(1)(larghezza*0.6)]))\n",
    "    archiCompleti=STRUCT([archi,T(2)(-larghezza*0.26)(muroLateraleInferiore),T([1,2])([larghezza*0.275,-larghezza*0.26])(muroLateraleInferiore),T([1,2])([larghezza*0.6,-larghezza*0.26])(muroLateraleInferiore),T([1,2])([larghezza*0.875,-larghezza*0.26])(muroLateraleInferiore),tettiArchi])\n",
    "    ringhiere=STRUCT(NN(2)([T([1,2,3])([larghezza*0.6,-larghezza*0.3,larghezza*0.405])(ringhieraAngolo(10)),T([1,2,3])([larghezza*0.3,-larghezza*0.3,larghezza*0.405])(R([2,1])(-PI/2)(ringhieraAngolo(10)))]))\n",
    "    scalinata=S([1,3])([larghezza*0.08598,larghezza*0.108])(scala(10))\n",
    "    facciataCentraleInferiore=STRUCT([archiCompleti,T([1,2])([larghezza*0.318,-larghezza*0.75])(scalinata),ringhiere])\n",
    "    muroDietro=CUBOID([larghezza*0.9,larghezza*0.04,larghezza*1.4])\n",
    "    finestrelle1=S([1,3])([larghezza*0.143,larghezza*0.143])(finestraPiccola(10))\n",
    "    finestrelle=STRUCT(NN(2)([T([1,2,3])([larghezza*0.1,-larghezza*0.006,larghezza*1.0775])(finestrelle1),T(1)(larghezza*0.6)]))\n",
    "    archiSuperiori=STRUCT(NN(3)([T(1)(larghezza*0.147)(arco(10)),T(1)(larghezza*0.302)]))\n",
    "    muroFinale=DIFFERENCE([muroDietro,T([2,3])([larghezza*0.02,larghezza*0.4])(archiSuperiori)])\n",
    "    muroCompleto=STRUCT([muroFinale,finestrelle])\n",
    "    facciataCompleta=STRUCT([muroCompleto,facciataCentraleInferiore])\n",
    "    return facciataCompleta\n",
    "VIEW(facciataAnterioreCentrale(10))\n",
    "    "
   ]
  },
  {
   "cell_type": "code",
   "execution_count": 84,
   "metadata": {},
   "outputs": [
    {
     "name": "stdout",
     "output_type": "stream",
     "text": [
      "Child 3\n"
     ]
    },
    {
     "data": {
      "text/plain": [
       "<pyplasm.xgepy.Hpc; proxy of <Swig Object of type 'std::shared_ptr< Hpc > *' at 0x18a9dd7f90> >"
      ]
     },
     "execution_count": 84,
     "metadata": {},
     "output_type": "execute_result"
    }
   ],
   "source": [
    "def arcoFinestraPosteriore(larghezza):\n",
    "    sphere=JOIN(SPHERE(larghezza*0.05)([larghezza*4,larghezza*4]))\n",
    "    cube=T([1,2])([-larghezza*0.05,-larghezza*0.05])(CUBOID([larghezza*0.5,larghezza*0.5,larghezza*0.5]))\n",
    "    parteSuperiore=INTERSECTION([sphere,cube])\n",
    "    parteSuperiorePiena=INTERSECTION([parteSuperiore,T([1,2])([-larghezza*0.3,-larghezza*0.02])(CUBOID([larghezza*0.6,larghezza*0.04,larghezza*0.6]))])\n",
    "    return parteSuperiorePiena\n",
    "VIEW(arcoFinestraPosteriore(10))\n",
    "    "
   ]
  },
  {
   "cell_type": "code",
   "execution_count": 5,
   "metadata": {},
   "outputs": [
    {
     "data": {
      "text/plain": [
       "<pyplasm.xgepy.Hpc; proxy of <Swig Object of type 'std::shared_ptr< Hpc > *' at 0x181cebb8d0> >"
      ]
     },
     "execution_count": 5,
     "metadata": {},
     "output_type": "execute_result"
    }
   ],
   "source": [
    "def tetto1(larghezza):\n",
    "    tetto=JOIN(R([1,2])(PI/4)(CONE([larghezza*0.87,larghezza*0.2])(4)))\n",
    "    tettoCompleto=S(2)(larghezza*0.153)(tetto)\n",
    "    return tettoCompleto\n",
    "VIEW(tetto1(10))"
   ]
  },
  {
   "cell_type": "code",
   "execution_count": 6,
   "metadata": {},
   "outputs": [
    {
     "data": {
      "text/plain": [
       "<pyplasm.xgepy.Hpc; proxy of <Swig Object of type 'std::shared_ptr< Hpc > *' at 0x181cebb990> >"
      ]
     },
     "execution_count": 6,
     "metadata": {},
     "output_type": "execute_result"
    }
   ],
   "source": [
    "def tetto2(larghezza):\n",
    "    tetto=JOIN(R([1,2])(PI/4)(CONE([larghezza*0.67,larghezza*0.15])(4)))\n",
    "    tettoCompleto2=S(2)(larghezza*0.198)(tetto)\n",
    "    return tettoCompleto2\n",
    "VIEW(tetto2(10))"
   ]
  },
  {
   "cell_type": "code",
   "execution_count": 101,
   "metadata": {},
   "outputs": [
    {
     "name": "stdout",
     "output_type": "stream",
     "text": [
      "Child 3\n",
      "Child 3\n",
      "Child 3\n",
      "Child 3\n",
      "Child 3\n",
      "Child 3\n",
      "Child 3\n",
      "Child 3\n",
      "Child 3\n",
      "Child 3\n"
     ]
    },
    {
     "data": {
      "text/plain": [
       "<pyplasm.xgepy.Hpc; proxy of <Swig Object of type 'std::shared_ptr< Hpc > *' at 0x18a9de30c0> >"
      ]
     },
     "execution_count": 101,
     "metadata": {},
     "output_type": "execute_result"
    }
   ],
   "source": [
    "def StrutturaCentrale(larghezza):\n",
    "    muroLateraleInterno=CUBOID([larghezza*0.04,larghezza*0.3,larghezza*1.3])\n",
    "    muriLateraliInterni=STRUCT(NN(2)([T([1,2])([-larghezza*0.04,-larghezza*0.3])(muroLateraleInterno),T(1)(larghezza*0.94)]))\n",
    "    finestreAlte1=S([1,3])([larghezza*0.143,larghezza*0.143])(finestraPiccola(10))\n",
    "    finestreAlte=STRUCT(NN(2)([T([1,2,3])([-larghezza*1.15,-larghezza*0.346,larghezza*1.14])(finestreAlte1),T(1)(larghezza*0.4)]))\n",
    "    finestreMedie1=S(1)(larghezza*0.143)(finestraGrande(10))\n",
    "    finestreMedie=STRUCT(NN(2)([T([1,2,3])([-larghezza*1.15,-larghezza*0.346,larghezza*0.52])(finestreMedie1),T(1)(larghezza*0.4)]))\n",
    "    finestreBasse=STRUCT(NN(2)([T([1,2,3])([-larghezza*1.15,-larghezza*0.346,larghezza*0.06])(finestreMedie1),T(1)(larghezza*0.4)]))\n",
    "    finestre1=STRUCT([finestreAlte,finestreMedie,finestreBasse])\n",
    "    finestreTotali=STRUCT(NN(2)([finestre1,T(1)(larghezza*0.6)]))\n",
    "    muroLateraleAnteriore1=T([1,2])([-larghezza*1.2,-larghezza*0.34])(CUBOID([larghezza*1.2,larghezza*0.04,larghezza*1.3]))\n",
    "    muroLateraleAnteriore=STRUCT([finestreTotali,muroLateraleAnteriore1])\n",
    "    muriLateraliAnteriori=STRUCT(NN(2)([muroLateraleAnteriore,T(1)(larghezza*2.1)]))\n",
    "    muroLaterale=CUBOID([larghezza*1.8,larghezza*0.04,larghezza*1.3])\n",
    "    finestrePiccole=STRUCT(NN(3)([T([1,2,3])([larghezza*0.25,-larghezza*0.006,larghezza*1.14])(finestreAlte1),T(1)(larghezza*0.6)]))\n",
    "    finestreGrandi=STRUCT(NN(3)([T([1,2,3])([larghezza*0.25,-larghezza*0.006,larghezza*0.52])(finestreMedie1),T(1)(larghezza*0.6)]))\n",
    "    muroLateraleConFinestre=STRUCT([muroLaterale,finestrePiccole,finestreGrandi])\n",
    "    muroLateraleDestro=R([1,2])(PI/2)(muroLateraleConFinestre)\n",
    "    muroLateraleSinistro=T(2)(larghezza*1.8)(R([2,1])(PI/2)(muroLateraleConFinestre))\n",
    "    muroPosteriore=CUBOID([larghezza*1.2,larghezza*0.04,larghezza*1.3])\n",
    "    finestrePosteriori=STRUCT(NN(2)([T([1,2,3])([larghezza*0.25,-larghezza*0.006,larghezza*1.14])(finestreAlte1),T(1)(larghezza*0.6)]))\n",
    "    finestrePosteriori2=STRUCT(NN(2)([T([1,2,3])([larghezza*0.25,-larghezza*0.006,larghezza*0.52])(finestreMedie1),T(1)(larghezza*0.6)]))\n",
    "    muroPosterioreCompleto=STRUCT([muroPosteriore,finestrePosteriori,finestrePosteriori2])\n",
    "    muriPosterioriLaterali=STRUCT(NN(2)([muroPosterioreCompleto,T(1)(larghezza*2.1)]))\n",
    "    muroPosteriorePiccolo=T(2)(-larghezza*0.26)(CUBOID([larghezza*0.3,larghezza*0.04,larghezza*1.4]))\n",
    "    muroPiccoloFinestra=STRUCT([muroPosteriorePiccolo,T([1,2,3])([larghezza*0.1,-larghezza*0.266,larghezza*1.14])(finestreAlte1)])\n",
    "    muroPosteriorePiccoloDestra=T([1,2])([larghezza*1.84,-larghezza*0.26])(R([1,2])(PI/2)(muroPiccoloFinestra))\n",
    "    muroPosteriorePiccoloSinistra=T([1,2])([larghezza*1.46,larghezza*0.04])(R([2,1])(PI/2)(muroPiccoloFinestra))\n",
    "    muroPosterioreCentrale1=CUBOID([larghezza*0.9,larghezza*0.04,larghezza*1.4])\n",
    "    muroCentraleFinestra=STRUCT(NN(3)([T([1,2,3])([larghezza*0.3,-larghezza*0.006,larghezza*0.52])(finestreMedie1),T(1)(larghezza*0.1)]))\n",
    "    muroPosterioreCentrale=STRUCT([muroPosterioreCentrale1,muroCentraleFinestra])\n",
    "    muroCentraleCompleto1=DIFFERENCE([muroPosterioreCentrale1,T([1,2,3])([larghezza*0.45,larghezza*0.02,larghezza*0.73])(arcoFinestraPosteriore(10))])\n",
    "    muroCentraleCompleto=STRUCT([T([1,2,3])([larghezza*0.4,-larghezza*0.006,larghezza*1.14])(finestreAlte1),muroCentraleCompleto1,muroCentraleFinestra])\n",
    "    Struttura=STRUCT([muriPosterioriLaterali,muroPosteriorePiccoloDestra,muroPosteriorePiccoloSinistra,T([1,2])([larghezza*1.2,-larghezza*0.3])(muroCentraleCompleto)])\n",
    "    Struttura2=R([1,2])(PI)(Struttura)\n",
    "    strutturaEsterna=STRUCT([muriLateraliAnteriori,T([1,2])([-larghezza*1.2,-larghezza*0.3])(muroLateraleSinistro),T([1,2])([larghezza*2.1,-larghezza*0.3])(muroLateraleDestro),T([1,2])([larghezza*2.1,larghezza*1.5])(Struttura2),T(2)(-larghezza*0.04)(facciataAnterioreCentrale(10)),muriLateraliInterni])\n",
    "    tettiLaterali=STRUCT(NN(2)([T([1,2,3])([-larghezza*0.6,larghezza*0.576,larghezza*1.3])(tetto1(10)),T(1)(larghezza*2.1)]))\n",
    "    tettoCentrale=T([1,2,3])([larghezza*0.45,larghezza*0.88,larghezza*1.4])(S(1)(larghezza*0.105)(tetto2(10)))\n",
    "    strutturaEsternaCompleta=STRUCT([strutturaEsterna,tettiLaterali,tettoCentrale])\n",
    "    pavimento1=T([1,2])([-larghezza*1.16,-larghezza*0.3])(CUBOID([larghezza*1.12,larghezza*1.8,larghezza*0.03]))\n",
    "    pavimento2=STRUCT(NN(2)([pavimento1,T(1)(larghezza*2.1)]))\n",
    "    pavimento3=CUBOID([larghezza*0.9,larghezza*1.8,larghezza*0.03])\n",
    "    muro1=T([1,2,3])([-larghezza*0.6,-larghezza*0.3,larghezza*0.03])(CUBOID([larghezza*0.02,larghezza*0.89,larghezza*1.07]))\n",
    "    muro2=STRUCT(NN(2)([muro1,T(2)(larghezza*0.91)]))\n",
    "    muro3=T([1,2,3])([-larghezza*1.16,larghezza*0.6,larghezza*0.03])(CUBOID([larghezza*1.12,larghezza*0.02,larghezza*1.07]))\n",
    "    muri1=STRUCT([muro2,muro3])\n",
    "    muriLateraliInterni=STRUCT(NN(2)([muri1,T(1)(larghezza*2.1)]))\n",
    "    muroCentrale1=T([1,2])([-larghezza*0.04,-larghezza*0.04])(CUBOID([larghezza*0.04,larghezza*1.84,larghezza*1.4]))\n",
    "    muriCentrali=STRUCT(NN(2)([muroCentrale1,T(1)(larghezza*0.94)]))\n",
    "    muroCentrale2=T([2,3])([larghezza*0.6,larghezza*0.03])(CUBOID([larghezza*0.9,larghezza*0.02,larghezza*1.37]))\n",
    "    strutturaInternaCompleta=STRUCT([pavimento1,pavimento2,pavimento3,muriLateraliInterni,muriCentrali,muroCentrale2])\n",
    "    strutturaCompleta=STRUCT([strutturaEsternaCompleta,strutturaInternaCompleta]) \n",
    "    return strutturaCompleta\n",
    "VIEW(StrutturaCentrale(10))"
   ]
  },
  {
   "cell_type": "code",
   "execution_count": 31,
   "metadata": {},
   "outputs": [
    {
     "name": "stdout",
     "output_type": "stream",
     "text": [
      "Child 3\n"
     ]
    },
    {
     "data": {
      "text/plain": [
       "<pyplasm.xgepy.Hpc; proxy of <Swig Object of type 'std::shared_ptr< Hpc > *' at 0x1827d314b0> >"
      ]
     },
     "execution_count": 31,
     "metadata": {},
     "output_type": "execute_result"
    }
   ],
   "source": [
    "def strutturaDestra(larghezza):\n",
    "    facciata=CUBOID([larghezza*2.5,larghezza*0.04,larghezza*1.1])\n",
    "    finestreAlte=S(1)(larghezza*0.143)(finestraGrande(10))\n",
    "    finestraAltaLaterale=T([1,2,3])([larghezza*0.2,-larghezza*0.006,larghezza*0.6])(finestreAlte)\n",
    "    finestreAlteLaterali=STRUCT(NN(2)([finestraAltaLaterale,T(1)(larghezza*2)]))\n",
    "    finestreBasseLaterali=STRUCT(NN(2)([finestreAlteLaterali,T(3)(-larghezza*0.45)]))\n",
    "    finestreFacciata=STRUCT(NN(3)([T([1,2,3])([larghezza*0.75,-larghezza*0.006,larghezza*0.6])(finestreAlte),T(1)(larghezza*0.45)]))\n",
    "    archi=STRUCT(NN(3)([T([1,2])([larghezza*0.8,larghezza*0.02])(arco(10)),T(1)(larghezza*0.45)]))\n",
    "    facciataConArchi=DIFFERENCE([facciata,archi])\n",
    "    facciataCompleta=STRUCT([facciataConArchi,finestreAlteLaterali,finestreFacciata,finestreBasseLaterali])\n",
    "    lateraleDestro=CUBOID([larghezza*0.95,larghezza*0.04,larghezza*1.1])\n",
    "    lateraleDestroCompleto=STRUCT([lateraleDestro,T([1,2,3])([larghezza*0.22,larghezza*(-0.006),larghezza*0.6])(finestreAlte),T([1,2,3])([larghezza*0.6,larghezza*(-0.006),larghezza*0.6])(finestreAlte),T([1,2,3])([larghezza*0.22,larghezza*(-0.006),larghezza*0.15])(finestreAlte),T([1,2,3])([larghezza*0.6,larghezza*(-0.006),larghezza*0.15])(finestreAlte)])\n",
    "    retro=CUBOID([larghezza*2.5,larghezza*0.04,larghezza*1.1])\n",
    "    retroCompleto=STRUCT([retro,T([1,2,3])([larghezza*0.47,larghezza*(-0.006),larghezza*0.6])(finestreAlte),T([1,2,3])([larghezza*1.143,larghezza*(-0.006),larghezza*0.6])(finestreAlte),T([1,2,3])([larghezza*1.816,larghezza*(-0.006),larghezza*0.6])(finestreAlte),T([1,2,3])([larghezza*0.47,larghezza*(-0.006),larghezza*0.15])(finestreAlte),T([1,2,3])([larghezza*1.816,larghezza*(-0.006),larghezza*0.15])(finestreAlte)])\n",
    "    lateraleSinistro=CUBOID([larghezza*0.95,larghezza*0.02,larghezza*1.1])\n",
    "    lateraleSinistroCompleto=R([1,2])(PI/2)(lateraleSinistro)\n",
    "    retroCompleto2=R([2,1])(PI)(retroCompleto)\n",
    "    lateraleDestroCompleto2=R([1,2])(PI/2)(lateraleDestroCompleto)\n",
    "    pavimento=CUBOID([larghezza*2.5,larghezza*0.95,larghezza*0.03])\n",
    "    strutturaEsterna= STRUCT([T(3)(larghezza*0.03)(facciataCompleta),T([1,3])([larghezza*0.02,larghezza*0.03])(lateraleSinistroCompleto),T([1,2,3])([larghezza*2.5,larghezza*0.95,larghezza*0.03])(retroCompleto2),T([1,3])([larghezza*2.5,larghezza*0.03])(lateraleDestroCompleto2),pavimento])\n",
    "    muroInterno1=CUBOID([larghezza*2.44,larghezza*0.02,larghezza*1.1])\n",
    "    muroInterno2=CUBOID([larghezza*0.02,larghezza*0.644,larghezza*1.1])\n",
    "    muroInterno3=CUBOID([larghezza*0.22,larghezza*0.02,larghezza*1.1])\n",
    "    strutturaInterna=STRUCT([T(2)(larghezza*0.25)(muroInterno1),T([1,2])([larghezza*0.6,larghezza*0.27])(muroInterno2),T([1,2])([larghezza*0.98,larghezza*0.27])(muroInterno2),T([1,2])([larghezza*1.46,larghezza*0.27])(muroInterno2),T([1,2])([larghezza*1.94,larghezza*0.27])(muroInterno2),T([1,2])([larghezza*2.22,larghezza*0.27])(muroInterno2),T([1,2])([larghezza*2.24,larghezza*0.675])(muroInterno3)])\n",
    "    tetto=R([2,1])(PI/2)(S([1,2])([larghezza*0.104,larghezza*0.136])(tetto2(10)))\n",
    "    strutturaCompleta=STRUCT([strutturaEsterna,T(3)(larghezza*0.03)(strutturaInterna),T([1,2,3])([larghezza*1.25,larghezza*0.475,larghezza*1.13])(tetto)])\n",
    "    return strutturaCompleta\n",
    "VIEW(strutturaDestra(10))"
   ]
  },
  {
   "cell_type": "code",
   "execution_count": 78,
   "metadata": {},
   "outputs": [
    {
     "name": "stdout",
     "output_type": "stream",
     "text": [
      "Child 3\n"
     ]
    },
    {
     "data": {
      "text/plain": [
       "<pyplasm.xgepy.Hpc; proxy of <Swig Object of type 'std::shared_ptr< Hpc > *' at 0x18a9dd5120> >"
      ]
     },
     "execution_count": 78,
     "metadata": {},
     "output_type": "execute_result"
    }
   ],
   "source": [
    "def strutturaSinistra(larghezza):\n",
    "    facciata=CUBOID([larghezza*1.2,larghezza*0.04,larghezza*1.1])\n",
    "    archi=STRUCT(NN(3)([T([1,2])([larghezza*0.3,larghezza*0.02])(arco(10)),T(1)(larghezza*0.3)]))\n",
    "    facciataConArco=DIFFERENCE([facciata,archi])\n",
    "    finestraAlta=S(1)(larghezza*0.143)(finestraGrande(10))\n",
    "    finestreAlte=STRUCT(NN(3)([T([1,2,3])([larghezza*0.25,-larghezza*0.006,larghezza*0.6])(finestraAlta),T(1)(larghezza*0.3)]))\n",
    "    facciataCompleta=STRUCT([facciataConArco,finestreAlte])\n",
    "    lateraleDestro=T([1,2])([larghezza*1.18,larghezza*0.04])(CUBOID([larghezza*0.02,larghezza*0.95,larghezza*1.1]))\n",
    "    lateraleSinistro1=CUBOID([larghezza*0.95,larghezza*0.04,larghezza*1.1])\n",
    "    finestreSinistra=STRUCT(NN(2)([T([1,2,3])([larghezza*0.25,-larghezza*0.006,larghezza*0.6])(finestraAlta),T(1)(larghezza*0.35)]))\n",
    "    lateraleSinistro=STRUCT([lateraleSinistro1,finestreSinistra])\n",
    "    lateraleSinistroCompleto=R([2,1])(PI/2)(lateraleSinistro)\n",
    "    retro=CUBOID([larghezza*1.2,larghezza*0.04,larghezza*1.1])\n",
    "    finestreRetro=STRUCT(NN(4)([T([1,2,3])([larghezza*0.16,-larghezza*0.006,larghezza*0.6])(finestraAlta),T(1)(larghezza*0.26)]))\n",
    "    retroCompleto=STRUCT([retro,finestreRetro])\n",
    "    strutturaEsterna=STRUCT([facciataCompleta,lateraleDestro,T(2)(larghezza*0.99)(lateraleSinistroCompleto),T([1,2])([larghezza*1.2,larghezza*0.99])(R([2,1])(PI)(retroCompleto))])\n",
    "    muro1=T([1,2])([larghezza*0.04,larghezza*0.25])(CUBOID([larghezza*1.14,larghezza*0.02,larghezza*1.1]))\n",
    "    muro2e3=STRUCT(NN(2)([T([1,2])([larghezza*0.39,larghezza*0.27])(CUBOID([larghezza*0.02,larghezza*0.68,larghezza*1.1])),T(1)(larghezza*0.352)]))\n",
    "    strutturaInterna=STRUCT([muro1,muro2e3])\n",
    "    pavimento=CUBOID([larghezza*1.2,larghezza*0.99,larghezza*0.03])\n",
    "    tetto=R([2,1])(PI/2)(S([1,2])([larghezza*0.108,larghezza*0.066])(tetto2(10)))\n",
    "    strutturaCompleta=STRUCT([T(3)(larghezza*0.03)(strutturaEsterna),T(3)(larghezza*0.03)(strutturaInterna),pavimento,T([1,2,3])([larghezza*0.6,larghezza*0.49,larghezza*1.13])(tetto)])\n",
    "    return strutturaCompleta\n",
    "VIEW(strutturaSinistra(10))"
   ]
  },
  {
   "cell_type": "code",
   "execution_count": 106,
   "metadata": {},
   "outputs": [
    {
     "name": "stdout",
     "output_type": "stream",
     "text": [
      "Child 3\n",
      "Child 3\n",
      "Child 3\n",
      "Child 3\n",
      "Child 3\n",
      "Child 3\n",
      "Child 3\n",
      "Child 3\n",
      "Child 3\n",
      "Child 3\n",
      "Child 3\n",
      "Child 3\n"
     ]
    },
    {
     "data": {
      "text/plain": [
       "<pyplasm.xgepy.Hpc; proxy of <Swig Object of type 'std::shared_ptr< Hpc > *' at 0x18a9dd7060> >"
      ]
     },
     "execution_count": 106,
     "metadata": {},
     "output_type": "execute_result"
    }
   ],
   "source": [
    "def VillaGodi(larghezza):\n",
    "    base=CUBOID([larghezza*9,larghezza*4.15,larghezza*0.02])\n",
    "    Villa=STRUCT([base,T([1,2,3])([larghezza*1,larghezza*2.9,larghezza*0.02])(strutturaSinistra(10)),T([1,2,3])([larghezza*3.4,larghezza*1.6,larghezza*0.02])(StrutturaCentrale(10)),T([1,2,3])([larghezza*5.5,larghezza*2.9,larghezza*0.02])(strutturaDestra(10))])\n",
    "    return Villa\n",
    "VIEW(VillaGodi(10))"
   ]
  },
  {
   "cell_type": "code",
   "execution_count": null,
   "metadata": {
    "collapsed": true
   },
   "outputs": [],
   "source": []
  }
 ],
 "metadata": {
  "kernelspec": {
   "display_name": "Python 2",
   "language": "python",
   "name": "python2"
  },
  "language_info": {
   "codemirror_mode": {
    "name": "ipython",
    "version": 2
   },
   "file_extension": ".py",
   "mimetype": "text/x-python",
   "name": "python",
   "nbconvert_exporter": "python",
   "pygments_lexer": "ipython2",
   "version": "2.7.13"
  }
 },
 "nbformat": 4,
 "nbformat_minor": 2
}
